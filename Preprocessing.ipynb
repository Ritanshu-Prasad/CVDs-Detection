{
 "cells": [
  {
   "cell_type": "markdown",
   "id": "0697f88a-2bca-46a1-aebc-562444fc73c7",
   "metadata": {},
   "source": [
    "## Uploading CSV File"
   ]
  },
  {
   "cell_type": "code",
   "execution_count": 1,
   "id": "6ed2e147-c9e9-46bf-b456-653336555f36",
   "metadata": {},
   "outputs": [],
   "source": [
    "import pandas as pd\n",
    "import warnings \n",
    "warnings.filterwarnings('ignore')\n",
    "\n",
    "# Load the CSV file\n",
    "df = pd.read_csv('heart_2022_uncleaned.csv')"
   ]
  },
  {
   "cell_type": "code",
   "execution_count": 2,
   "id": "aa1cc561-b554-4a8d-911a-c1c40736d605",
   "metadata": {},
   "outputs": [
    {
     "data": {
      "text/plain": [
       "(445132, 40)"
      ]
     },
     "execution_count": 2,
     "metadata": {},
     "output_type": "execute_result"
    }
   ],
   "source": [
    "df.shape # Dimension of the input."
   ]
  },
  {
   "cell_type": "code",
   "execution_count": 3,
   "id": "e9504dd0-339d-4d5a-aa18-b9e6d3752f9e",
   "metadata": {},
   "outputs": [
    {
     "name": "stdout",
     "output_type": "stream",
     "text": [
      "<class 'pandas.core.frame.DataFrame'>\n",
      "RangeIndex: 445132 entries, 0 to 445131\n",
      "Data columns (total 40 columns):\n",
      " #   Column                     Non-Null Count   Dtype  \n",
      "---  ------                     --------------   -----  \n",
      " 0   State                      445132 non-null  object \n",
      " 1   Sex                        445132 non-null  object \n",
      " 2   GeneralHealth              443934 non-null  object \n",
      " 3   PhysicalHealthDays         434205 non-null  float64\n",
      " 4   MentalHealthDays           436065 non-null  float64\n",
      " 5   LastCheckupTime            436824 non-null  object \n",
      " 6   PhysicalActivities         444039 non-null  object \n",
      " 7   SleepHours                 439679 non-null  float64\n",
      " 8   RemovedTeeth               433772 non-null  object \n",
      " 9   HadHeartAttack             442067 non-null  object \n",
      " 10  HadAngina                  440727 non-null  object \n",
      " 11  HadStroke                  443575 non-null  object \n",
      " 12  HadAsthma                  443359 non-null  object \n",
      " 13  HadSkinCancer              441989 non-null  object \n",
      " 14  HadCOPD                    442913 non-null  object \n",
      " 15  HadDepressiveDisorder      442320 non-null  object \n",
      " 16  HadKidneyDisease           443206 non-null  object \n",
      " 17  HadArthritis               442499 non-null  object \n",
      " 18  HadDiabetes                444045 non-null  object \n",
      " 19  DeafOrHardOfHearing        424485 non-null  object \n",
      " 20  BlindOrVisionDifficulty    423568 non-null  object \n",
      " 21  DifficultyConcentrating    420892 non-null  object \n",
      " 22  DifficultyWalking          421120 non-null  object \n",
      " 23  DifficultyDressingBathing  421217 non-null  object \n",
      " 24  DifficultyErrands          419476 non-null  object \n",
      " 25  SmokerStatus               409670 non-null  object \n",
      " 26  ECigaretteUsage            409472 non-null  object \n",
      " 27  ChestScan                  389086 non-null  object \n",
      " 28  RaceEthnicityCategory      431075 non-null  object \n",
      " 29  AgeCategory                436053 non-null  object \n",
      " 30  HeightInMeters             416480 non-null  float64\n",
      " 31  WeightInKilograms          403054 non-null  float64\n",
      " 32  BMI                        396326 non-null  float64\n",
      " 33  AlcoholDrinkers            398558 non-null  object \n",
      " 34  HIVTesting                 379005 non-null  object \n",
      " 35  FluVaxLast12               398011 non-null  object \n",
      " 36  PneumoVaxEver              368092 non-null  object \n",
      " 37  TetanusLast10Tdap          362616 non-null  object \n",
      " 38  HighRiskLastYear           394509 non-null  object \n",
      " 39  CovidPos                   394368 non-null  object \n",
      "dtypes: float64(6), object(34)\n",
      "memory usage: 135.8+ MB\n"
     ]
    }
   ],
   "source": [
    "df.info()"
   ]
  },
  {
   "cell_type": "code",
   "execution_count": 4,
   "id": "1af75031-aa3b-4e66-87be-4cec40eb03fa",
   "metadata": {
    "scrolled": true
   },
   "outputs": [
    {
     "data": {
      "text/plain": [
       "State                          54\n",
       "Sex                             2\n",
       "GeneralHealth                   5\n",
       "PhysicalHealthDays             31\n",
       "MentalHealthDays               31\n",
       "LastCheckupTime                 4\n",
       "PhysicalActivities              2\n",
       "SleepHours                     24\n",
       "RemovedTeeth                    4\n",
       "HadHeartAttack                  2\n",
       "HadAngina                       2\n",
       "HadStroke                       2\n",
       "HadAsthma                       2\n",
       "HadSkinCancer                   2\n",
       "HadCOPD                         2\n",
       "HadDepressiveDisorder           2\n",
       "HadKidneyDisease                2\n",
       "HadArthritis                    2\n",
       "HadDiabetes                     4\n",
       "DeafOrHardOfHearing             2\n",
       "BlindOrVisionDifficulty         2\n",
       "DifficultyConcentrating         2\n",
       "DifficultyWalking               2\n",
       "DifficultyDressingBathing       2\n",
       "DifficultyErrands               2\n",
       "SmokerStatus                    4\n",
       "ECigaretteUsage                 4\n",
       "ChestScan                       2\n",
       "RaceEthnicityCategory           5\n",
       "AgeCategory                    13\n",
       "HeightInMeters                109\n",
       "WeightInKilograms             599\n",
       "BMI                          3985\n",
       "AlcoholDrinkers                 2\n",
       "HIVTesting                      2\n",
       "FluVaxLast12                    2\n",
       "PneumoVaxEver                   2\n",
       "TetanusLast10Tdap               4\n",
       "HighRiskLastYear                2\n",
       "CovidPos                        3\n",
       "dtype: int64"
      ]
     },
     "execution_count": 4,
     "metadata": {},
     "output_type": "execute_result"
    }
   ],
   "source": [
    "df.nunique()"
   ]
  },
  {
   "cell_type": "markdown",
   "id": "253d5286-5aa3-4eda-98bd-9eb59b873423",
   "metadata": {},
   "source": [
    "## Removing Duplicates"
   ]
  },
  {
   "cell_type": "code",
   "execution_count": 5,
   "id": "5fd7f463-12a7-411b-ace8-fdd72538ece0",
   "metadata": {},
   "outputs": [
    {
     "data": {
      "text/plain": [
       "157"
      ]
     },
     "execution_count": 5,
     "metadata": {},
     "output_type": "execute_result"
    }
   ],
   "source": [
    "df.duplicated().sum()"
   ]
  },
  {
   "cell_type": "code",
   "execution_count": 6,
   "id": "19a1e9ae-427b-4321-b876-b7838348da7d",
   "metadata": {},
   "outputs": [],
   "source": [
    "df.drop_duplicates(inplace= True)"
   ]
  },
  {
   "cell_type": "markdown",
   "id": "26161a62-e737-453c-bfd7-a6d5f046d8ad",
   "metadata": {},
   "source": [
    "## Finding Out the percentage of missing values "
   ]
  },
  {
   "cell_type": "code",
   "execution_count": 7,
   "id": "f9b767da-3270-48ca-a2ef-cc920201e139",
   "metadata": {},
   "outputs": [
    {
     "name": "stdout",
     "output_type": "stream",
     "text": [
      "percentage of nan values = 44.71%\n"
     ]
    }
   ],
   "source": [
    "mask = df.isnull().any(axis = 1)\n",
    "\n",
    "num_of_rows_with_nan = mask.sum()\n",
    "num_of_data_rows = len(df)\n",
    "\n",
    "percentage_of_nan = num_of_rows_with_nan / num_of_data_rows\n",
    "print(f'percentage of nan values = {percentage_of_nan*100:.2f}%')"
   ]
  },
  {
   "cell_type": "markdown",
   "id": "7aa4ea0a-61f7-405f-8e5b-f1e3f951d038",
   "metadata": {},
   "source": [
    "##### The percentage is too large so we cannot remove the missing values."
   ]
  },
  {
   "cell_type": "markdown",
   "id": "5f8b7505-0f64-4a78-a719-9771bee205e1",
   "metadata": {},
   "source": [
    "## Finding out the percentage of missing values in each column."
   ]
  },
  {
   "cell_type": "code",
   "execution_count": 8,
   "id": "d8295d64-c5be-44ff-b9a6-88b1bd82e4b0",
   "metadata": {},
   "outputs": [
    {
     "data": {
      "text/plain": [
       "State                        0.000000\n",
       "Sex                          0.000000\n",
       "GeneralHealth                0.002681\n",
       "PhysicalHealthDays           0.024545\n",
       "MentalHealthDays             0.020365\n",
       "LastCheckupTime              0.018655\n",
       "PhysicalActivities           0.002445\n",
       "SleepHours                   0.012243\n",
       "RemovedTeeth                 0.025518\n",
       "HadHeartAttack               0.006877\n",
       "HadAngina                    0.009888\n",
       "HadStroke                    0.003488\n",
       "HadAsthma                    0.003973\n",
       "HadSkinCancer                0.007052\n",
       "HadCOPD                      0.004976\n",
       "HadDepressiveDisorder        0.006308\n",
       "HadKidneyDisease             0.004317\n",
       "HadArthritis                 0.005906\n",
       "HadDiabetes                  0.002432\n",
       "DeafOrHardOfHearing          0.046074\n",
       "BlindOrVisionDifficulty      0.048135\n",
       "DifficultyConcentrating      0.054149\n",
       "DifficultyWalking            0.053637\n",
       "DifficultyDressingBathing    0.053419\n",
       "DifficultyErrands            0.057331\n",
       "SmokerStatus                 0.079366\n",
       "ECigaretteUsage              0.079811\n",
       "ChestScan                    0.125625\n",
       "RaceEthnicityCategory        0.031570\n",
       "AgeCategory                  0.020381\n",
       "HeightInMeters               0.064060\n",
       "WeightInKilograms            0.094232\n",
       "BMI                          0.109352\n",
       "AlcoholDrinkers              0.104338\n",
       "HIVTesting                   0.148280\n",
       "FluVaxLast12                 0.105568\n",
       "PneumoVaxEver                0.172805\n",
       "TetanusLast10Tdap            0.185112\n",
       "HighRiskLastYear             0.113438\n",
       "CovidPos                     0.113755\n",
       "dtype: float64"
      ]
     },
     "execution_count": 8,
     "metadata": {},
     "output_type": "execute_result"
    }
   ],
   "source": [
    "df.isnull().sum() / len(df)"
   ]
  },
  {
   "cell_type": "code",
   "execution_count": 9,
   "id": "15889f50-27e3-4058-aacc-b654fc2abff8",
   "metadata": {},
   "outputs": [],
   "source": [
    "from sklearn.preprocessing import LabelEncoder\n",
    "label_encoder = LabelEncoder()\n",
    "\n",
    "# Automatically select all object (categorical) columns\n",
    "columns_to_encode = df.select_dtypes(include=['object']).columns\n",
    "\n",
    "# Convert mixed-type columns to string, then apply label encoding\n",
    "for col in columns_to_encode:\n",
    "    df[col] = df[col].astype(str)  # Convert all values to strings\n",
    "    df[col] = label_encoder.fit_transform(df[col])"
   ]
  },
  {
   "cell_type": "code",
   "execution_count": 10,
   "id": "beab9be2-42dc-4978-b48b-530419600316",
   "metadata": {},
   "outputs": [
    {
     "data": {
      "text/plain": [
       "State                            0\n",
       "Sex                              0\n",
       "GeneralHealth                    0\n",
       "PhysicalHealthDays           10922\n",
       "MentalHealthDays              9062\n",
       "LastCheckupTime                  0\n",
       "PhysicalActivities               0\n",
       "SleepHours                    5448\n",
       "RemovedTeeth                     0\n",
       "HadHeartAttack                   0\n",
       "HadAngina                        0\n",
       "HadStroke                        0\n",
       "HadAsthma                        0\n",
       "HadSkinCancer                    0\n",
       "HadCOPD                          0\n",
       "HadDepressiveDisorder            0\n",
       "HadKidneyDisease                 0\n",
       "HadArthritis                     0\n",
       "HadDiabetes                      0\n",
       "DeafOrHardOfHearing              0\n",
       "BlindOrVisionDifficulty          0\n",
       "DifficultyConcentrating          0\n",
       "DifficultyWalking                0\n",
       "DifficultyDressingBathing        0\n",
       "DifficultyErrands                0\n",
       "SmokerStatus                     0\n",
       "ECigaretteUsage                  0\n",
       "ChestScan                        0\n",
       "RaceEthnicityCategory            0\n",
       "AgeCategory                      0\n",
       "HeightInMeters               28505\n",
       "WeightInKilograms            41931\n",
       "BMI                          48659\n",
       "AlcoholDrinkers                  0\n",
       "HIVTesting                       0\n",
       "FluVaxLast12                     0\n",
       "PneumoVaxEver                    0\n",
       "TetanusLast10Tdap                0\n",
       "HighRiskLastYear                 0\n",
       "CovidPos                         0\n",
       "dtype: int64"
      ]
     },
     "execution_count": 10,
     "metadata": {},
     "output_type": "execute_result"
    }
   ],
   "source": [
    "df.isnull().sum()"
   ]
  },
  {
   "cell_type": "code",
   "execution_count": 11,
   "id": "81b1122d-0e9f-4f30-9fd1-fafcd2fae7c8",
   "metadata": {},
   "outputs": [],
   "source": [
    "# We will fill the null values with mean.\n",
    "columns_to_fill = ['PhysicalHealthDays', 'MentalHealthDays', 'SleepHours', 'HeightInMeters', 'WeightInKilograms', 'BMI']\n",
    "\n",
    "for col in columns_to_fill:\n",
    "    df[col].fillna(df[col].mean(), inplace=True)"
   ]
  },
  {
   "cell_type": "code",
   "execution_count": 12,
   "id": "23dd6ad1-062b-46a3-8d4b-60609ff40d98",
   "metadata": {},
   "outputs": [
    {
     "data": {
      "text/plain": [
       "State                        0\n",
       "Sex                          0\n",
       "GeneralHealth                0\n",
       "PhysicalHealthDays           0\n",
       "MentalHealthDays             0\n",
       "LastCheckupTime              0\n",
       "PhysicalActivities           0\n",
       "SleepHours                   0\n",
       "RemovedTeeth                 0\n",
       "HadHeartAttack               0\n",
       "HadAngina                    0\n",
       "HadStroke                    0\n",
       "HadAsthma                    0\n",
       "HadSkinCancer                0\n",
       "HadCOPD                      0\n",
       "HadDepressiveDisorder        0\n",
       "HadKidneyDisease             0\n",
       "HadArthritis                 0\n",
       "HadDiabetes                  0\n",
       "DeafOrHardOfHearing          0\n",
       "BlindOrVisionDifficulty      0\n",
       "DifficultyConcentrating      0\n",
       "DifficultyWalking            0\n",
       "DifficultyDressingBathing    0\n",
       "DifficultyErrands            0\n",
       "SmokerStatus                 0\n",
       "ECigaretteUsage              0\n",
       "ChestScan                    0\n",
       "RaceEthnicityCategory        0\n",
       "AgeCategory                  0\n",
       "HeightInMeters               0\n",
       "WeightInKilograms            0\n",
       "BMI                          0\n",
       "AlcoholDrinkers              0\n",
       "HIVTesting                   0\n",
       "FluVaxLast12                 0\n",
       "PneumoVaxEver                0\n",
       "TetanusLast10Tdap            0\n",
       "HighRiskLastYear             0\n",
       "CovidPos                     0\n",
       "dtype: int64"
      ]
     },
     "execution_count": 12,
     "metadata": {},
     "output_type": "execute_result"
    }
   ],
   "source": [
    "df.isnull().sum()"
   ]
  },
  {
   "cell_type": "code",
   "execution_count": 13,
   "id": "9baa282c-6799-4c73-9766-6356557f6e24",
   "metadata": {},
   "outputs": [],
   "source": [
    "df.dropna(thresh=len(df.columns) - 2, inplace=True)\n"
   ]
  },
  {
   "cell_type": "code",
   "execution_count": 14,
   "id": "efd8f89d-0f4e-481f-8a42-3bdd59c5b77e",
   "metadata": {},
   "outputs": [],
   "source": [
    "numeric_cols = df.select_dtypes(include='number').columns\n",
    "df[numeric_cols] = df[numeric_cols].applymap(lambda x: pd.NA if x < 0 else x)\n"
   ]
  },
  {
   "cell_type": "code",
   "execution_count": 15,
   "id": "a9214203-425c-433f-aa3c-4349505f86b4",
   "metadata": {},
   "outputs": [
    {
     "data": {
      "text/html": [
       "<div>\n",
       "<style scoped>\n",
       "    .dataframe tbody tr th:only-of-type {\n",
       "        vertical-align: middle;\n",
       "    }\n",
       "\n",
       "    .dataframe tbody tr th {\n",
       "        vertical-align: top;\n",
       "    }\n",
       "\n",
       "    .dataframe thead th {\n",
       "        text-align: right;\n",
       "    }\n",
       "</style>\n",
       "<table border=\"1\" class=\"dataframe\">\n",
       "  <thead>\n",
       "    <tr style=\"text-align: right;\">\n",
       "      <th></th>\n",
       "      <th>State</th>\n",
       "      <th>Sex</th>\n",
       "      <th>GeneralHealth</th>\n",
       "      <th>PhysicalHealthDays</th>\n",
       "      <th>MentalHealthDays</th>\n",
       "      <th>LastCheckupTime</th>\n",
       "      <th>PhysicalActivities</th>\n",
       "      <th>SleepHours</th>\n",
       "      <th>RemovedTeeth</th>\n",
       "      <th>HadHeartAttack</th>\n",
       "      <th>...</th>\n",
       "      <th>HeightInMeters</th>\n",
       "      <th>WeightInKilograms</th>\n",
       "      <th>BMI</th>\n",
       "      <th>AlcoholDrinkers</th>\n",
       "      <th>HIVTesting</th>\n",
       "      <th>FluVaxLast12</th>\n",
       "      <th>PneumoVaxEver</th>\n",
       "      <th>TetanusLast10Tdap</th>\n",
       "      <th>HighRiskLastYear</th>\n",
       "      <th>CovidPos</th>\n",
       "    </tr>\n",
       "  </thead>\n",
       "  <tbody>\n",
       "    <tr>\n",
       "      <th>0</th>\n",
       "      <td>0</td>\n",
       "      <td>0</td>\n",
       "      <td>4</td>\n",
       "      <td>0.0</td>\n",
       "      <td>0.0</td>\n",
       "      <td>3</td>\n",
       "      <td>0</td>\n",
       "      <td>8.0</td>\n",
       "      <td>4</td>\n",
       "      <td>0</td>\n",
       "      <td>...</td>\n",
       "      <td>1.70269</td>\n",
       "      <td>83.074632</td>\n",
       "      <td>28.529907</td>\n",
       "      <td>0</td>\n",
       "      <td>0</td>\n",
       "      <td>1</td>\n",
       "      <td>0</td>\n",
       "      <td>2</td>\n",
       "      <td>0</td>\n",
       "      <td>0</td>\n",
       "    </tr>\n",
       "    <tr>\n",
       "      <th>1</th>\n",
       "      <td>0</td>\n",
       "      <td>0</td>\n",
       "      <td>0</td>\n",
       "      <td>0.0</td>\n",
       "      <td>0.0</td>\n",
       "      <td>4</td>\n",
       "      <td>0</td>\n",
       "      <td>6.0</td>\n",
       "      <td>4</td>\n",
       "      <td>0</td>\n",
       "      <td>...</td>\n",
       "      <td>1.60000</td>\n",
       "      <td>68.040000</td>\n",
       "      <td>26.570000</td>\n",
       "      <td>0</td>\n",
       "      <td>0</td>\n",
       "      <td>0</td>\n",
       "      <td>0</td>\n",
       "      <td>0</td>\n",
       "      <td>0</td>\n",
       "      <td>0</td>\n",
       "    </tr>\n",
       "    <tr>\n",
       "      <th>2</th>\n",
       "      <td>0</td>\n",
       "      <td>0</td>\n",
       "      <td>4</td>\n",
       "      <td>2.0</td>\n",
       "      <td>3.0</td>\n",
       "      <td>3</td>\n",
       "      <td>1</td>\n",
       "      <td>5.0</td>\n",
       "      <td>4</td>\n",
       "      <td>0</td>\n",
       "      <td>...</td>\n",
       "      <td>1.57000</td>\n",
       "      <td>63.500000</td>\n",
       "      <td>25.610000</td>\n",
       "      <td>0</td>\n",
       "      <td>0</td>\n",
       "      <td>0</td>\n",
       "      <td>0</td>\n",
       "      <td>4</td>\n",
       "      <td>0</td>\n",
       "      <td>2</td>\n",
       "    </tr>\n",
       "    <tr>\n",
       "      <th>3</th>\n",
       "      <td>0</td>\n",
       "      <td>0</td>\n",
       "      <td>0</td>\n",
       "      <td>0.0</td>\n",
       "      <td>0.0</td>\n",
       "      <td>3</td>\n",
       "      <td>1</td>\n",
       "      <td>7.0</td>\n",
       "      <td>4</td>\n",
       "      <td>0</td>\n",
       "      <td>...</td>\n",
       "      <td>1.65000</td>\n",
       "      <td>63.500000</td>\n",
       "      <td>23.300000</td>\n",
       "      <td>0</td>\n",
       "      <td>0</td>\n",
       "      <td>1</td>\n",
       "      <td>1</td>\n",
       "      <td>0</td>\n",
       "      <td>0</td>\n",
       "      <td>0</td>\n",
       "    </tr>\n",
       "    <tr>\n",
       "      <th>4</th>\n",
       "      <td>0</td>\n",
       "      <td>0</td>\n",
       "      <td>1</td>\n",
       "      <td>2.0</td>\n",
       "      <td>0.0</td>\n",
       "      <td>3</td>\n",
       "      <td>1</td>\n",
       "      <td>9.0</td>\n",
       "      <td>4</td>\n",
       "      <td>0</td>\n",
       "      <td>...</td>\n",
       "      <td>1.57000</td>\n",
       "      <td>53.980000</td>\n",
       "      <td>21.770000</td>\n",
       "      <td>1</td>\n",
       "      <td>0</td>\n",
       "      <td>0</td>\n",
       "      <td>1</td>\n",
       "      <td>0</td>\n",
       "      <td>0</td>\n",
       "      <td>0</td>\n",
       "    </tr>\n",
       "    <tr>\n",
       "      <th>...</th>\n",
       "      <td>...</td>\n",
       "      <td>...</td>\n",
       "      <td>...</td>\n",
       "      <td>...</td>\n",
       "      <td>...</td>\n",
       "      <td>...</td>\n",
       "      <td>...</td>\n",
       "      <td>...</td>\n",
       "      <td>...</td>\n",
       "      <td>...</td>\n",
       "      <td>...</td>\n",
       "      <td>...</td>\n",
       "      <td>...</td>\n",
       "      <td>...</td>\n",
       "      <td>...</td>\n",
       "      <td>...</td>\n",
       "      <td>...</td>\n",
       "      <td>...</td>\n",
       "      <td>...</td>\n",
       "      <td>...</td>\n",
       "      <td>...</td>\n",
       "    </tr>\n",
       "    <tr>\n",
       "      <th>445127</th>\n",
       "      <td>48</td>\n",
       "      <td>0</td>\n",
       "      <td>2</td>\n",
       "      <td>0.0</td>\n",
       "      <td>3.0</td>\n",
       "      <td>1</td>\n",
       "      <td>1</td>\n",
       "      <td>6.0</td>\n",
       "      <td>3</td>\n",
       "      <td>0</td>\n",
       "      <td>...</td>\n",
       "      <td>1.65000</td>\n",
       "      <td>69.850000</td>\n",
       "      <td>25.630000</td>\n",
       "      <td>2</td>\n",
       "      <td>1</td>\n",
       "      <td>0</td>\n",
       "      <td>0</td>\n",
       "      <td>0</td>\n",
       "      <td>0</td>\n",
       "      <td>2</td>\n",
       "    </tr>\n",
       "    <tr>\n",
       "      <th>445128</th>\n",
       "      <td>48</td>\n",
       "      <td>0</td>\n",
       "      <td>0</td>\n",
       "      <td>2.0</td>\n",
       "      <td>2.0</td>\n",
       "      <td>3</td>\n",
       "      <td>1</td>\n",
       "      <td>7.0</td>\n",
       "      <td>3</td>\n",
       "      <td>0</td>\n",
       "      <td>...</td>\n",
       "      <td>1.70000</td>\n",
       "      <td>83.010000</td>\n",
       "      <td>28.660000</td>\n",
       "      <td>0</td>\n",
       "      <td>1</td>\n",
       "      <td>1</td>\n",
       "      <td>0</td>\n",
       "      <td>2</td>\n",
       "      <td>0</td>\n",
       "      <td>0</td>\n",
       "    </tr>\n",
       "    <tr>\n",
       "      <th>445129</th>\n",
       "      <td>48</td>\n",
       "      <td>0</td>\n",
       "      <td>3</td>\n",
       "      <td>30.0</td>\n",
       "      <td>30.0</td>\n",
       "      <td>0</td>\n",
       "      <td>0</td>\n",
       "      <td>5.0</td>\n",
       "      <td>0</td>\n",
       "      <td>0</td>\n",
       "      <td>...</td>\n",
       "      <td>1.70000</td>\n",
       "      <td>49.900000</td>\n",
       "      <td>17.230000</td>\n",
       "      <td>2</td>\n",
       "      <td>0</td>\n",
       "      <td>0</td>\n",
       "      <td>0</td>\n",
       "      <td>0</td>\n",
       "      <td>0</td>\n",
       "      <td>0</td>\n",
       "    </tr>\n",
       "    <tr>\n",
       "      <th>445130</th>\n",
       "      <td>48</td>\n",
       "      <td>1</td>\n",
       "      <td>4</td>\n",
       "      <td>0.0</td>\n",
       "      <td>0.0</td>\n",
       "      <td>3</td>\n",
       "      <td>0</td>\n",
       "      <td>5.0</td>\n",
       "      <td>3</td>\n",
       "      <td>1</td>\n",
       "      <td>...</td>\n",
       "      <td>1.83000</td>\n",
       "      <td>108.860000</td>\n",
       "      <td>32.550000</td>\n",
       "      <td>0</td>\n",
       "      <td>1</td>\n",
       "      <td>1</td>\n",
       "      <td>1</td>\n",
       "      <td>0</td>\n",
       "      <td>0</td>\n",
       "      <td>2</td>\n",
       "    </tr>\n",
       "    <tr>\n",
       "      <th>445131</th>\n",
       "      <td>48</td>\n",
       "      <td>1</td>\n",
       "      <td>4</td>\n",
       "      <td>0.0</td>\n",
       "      <td>1.0</td>\n",
       "      <td>4</td>\n",
       "      <td>1</td>\n",
       "      <td>5.0</td>\n",
       "      <td>3</td>\n",
       "      <td>0</td>\n",
       "      <td>...</td>\n",
       "      <td>1.68000</td>\n",
       "      <td>63.500000</td>\n",
       "      <td>22.600000</td>\n",
       "      <td>1</td>\n",
       "      <td>0</td>\n",
       "      <td>0</td>\n",
       "      <td>0</td>\n",
       "      <td>2</td>\n",
       "      <td>0</td>\n",
       "      <td>0</td>\n",
       "    </tr>\n",
       "  </tbody>\n",
       "</table>\n",
       "<p>444975 rows × 40 columns</p>\n",
       "</div>"
      ],
      "text/plain": [
       "        State  Sex  GeneralHealth  PhysicalHealthDays  MentalHealthDays  \\\n",
       "0           0    0              4                 0.0               0.0   \n",
       "1           0    0              0                 0.0               0.0   \n",
       "2           0    0              4                 2.0               3.0   \n",
       "3           0    0              0                 0.0               0.0   \n",
       "4           0    0              1                 2.0               0.0   \n",
       "...       ...  ...            ...                 ...               ...   \n",
       "445127     48    0              2                 0.0               3.0   \n",
       "445128     48    0              0                 2.0               2.0   \n",
       "445129     48    0              3                30.0              30.0   \n",
       "445130     48    1              4                 0.0               0.0   \n",
       "445131     48    1              4                 0.0               1.0   \n",
       "\n",
       "        LastCheckupTime  PhysicalActivities  SleepHours  RemovedTeeth  \\\n",
       "0                     3                   0         8.0             4   \n",
       "1                     4                   0         6.0             4   \n",
       "2                     3                   1         5.0             4   \n",
       "3                     3                   1         7.0             4   \n",
       "4                     3                   1         9.0             4   \n",
       "...                 ...                 ...         ...           ...   \n",
       "445127                1                   1         6.0             3   \n",
       "445128                3                   1         7.0             3   \n",
       "445129                0                   0         5.0             0   \n",
       "445130                3                   0         5.0             3   \n",
       "445131                4                   1         5.0             3   \n",
       "\n",
       "        HadHeartAttack  ...  HeightInMeters  WeightInKilograms        BMI  \\\n",
       "0                    0  ...         1.70269          83.074632  28.529907   \n",
       "1                    0  ...         1.60000          68.040000  26.570000   \n",
       "2                    0  ...         1.57000          63.500000  25.610000   \n",
       "3                    0  ...         1.65000          63.500000  23.300000   \n",
       "4                    0  ...         1.57000          53.980000  21.770000   \n",
       "...                ...  ...             ...                ...        ...   \n",
       "445127               0  ...         1.65000          69.850000  25.630000   \n",
       "445128               0  ...         1.70000          83.010000  28.660000   \n",
       "445129               0  ...         1.70000          49.900000  17.230000   \n",
       "445130               1  ...         1.83000         108.860000  32.550000   \n",
       "445131               0  ...         1.68000          63.500000  22.600000   \n",
       "\n",
       "        AlcoholDrinkers  HIVTesting  FluVaxLast12  PneumoVaxEver  \\\n",
       "0                     0           0             1              0   \n",
       "1                     0           0             0              0   \n",
       "2                     0           0             0              0   \n",
       "3                     0           0             1              1   \n",
       "4                     1           0             0              1   \n",
       "...                 ...         ...           ...            ...   \n",
       "445127                2           1             0              0   \n",
       "445128                0           1             1              0   \n",
       "445129                2           0             0              0   \n",
       "445130                0           1             1              1   \n",
       "445131                1           0             0              0   \n",
       "\n",
       "        TetanusLast10Tdap  HighRiskLastYear  CovidPos  \n",
       "0                       2                 0         0  \n",
       "1                       0                 0         0  \n",
       "2                       4                 0         2  \n",
       "3                       0                 0         0  \n",
       "4                       0                 0         0  \n",
       "...                   ...               ...       ...  \n",
       "445127                  0                 0         2  \n",
       "445128                  2                 0         0  \n",
       "445129                  0                 0         0  \n",
       "445130                  0                 0         2  \n",
       "445131                  2                 0         0  \n",
       "\n",
       "[444975 rows x 40 columns]"
      ]
     },
     "execution_count": 15,
     "metadata": {},
     "output_type": "execute_result"
    }
   ],
   "source": [
    "df\n"
   ]
  },
  {
   "cell_type": "code",
   "execution_count": 16,
   "id": "7b0dc336-85d2-464e-8eac-695b9d3ba5bf",
   "metadata": {},
   "outputs": [],
   "source": [
    "df.to_csv('heart_2022_cleaned.csv', index=False)"
   ]
  },
  {
   "cell_type": "code",
   "execution_count": 17,
   "id": "18579293-85c9-4ad5-9975-0663fbbebbe7",
   "metadata": {},
   "outputs": [],
   "source": [
    "from sklearn import metrics, model_selection, preprocessing"
   ]
  },
  {
   "cell_type": "code",
   "execution_count": 18,
   "id": "778e6c2e-989e-46e7-8330-4805a3c57adc",
   "metadata": {},
   "outputs": [
    {
     "name": "stdout",
     "output_type": "stream",
     "text": [
      "Index(['State', 'Sex', 'GeneralHealth', 'PhysicalHealthDays',\n",
      "       'MentalHealthDays', 'LastCheckupTime', 'PhysicalActivities',\n",
      "       'SleepHours', 'RemovedTeeth', 'HadHeartAttack', 'HadAngina',\n",
      "       'HadStroke', 'HadAsthma', 'HadSkinCancer', 'HadCOPD',\n",
      "       'HadDepressiveDisorder', 'HadKidneyDisease', 'HadArthritis',\n",
      "       'HadDiabetes', 'DeafOrHardOfHearing', 'BlindOrVisionDifficulty',\n",
      "       'DifficultyConcentrating', 'DifficultyWalking',\n",
      "       'DifficultyDressingBathing', 'DifficultyErrands', 'SmokerStatus',\n",
      "       'ECigaretteUsage', 'ChestScan', 'RaceEthnicityCategory', 'AgeCategory',\n",
      "       'HeightInMeters', 'WeightInKilograms', 'BMI', 'AlcoholDrinkers',\n",
      "       'HIVTesting', 'FluVaxLast12', 'PneumoVaxEver', 'TetanusLast10Tdap',\n",
      "       'HighRiskLastYear', 'CovidPos'],\n",
      "      dtype='object')\n",
      "(444975, 39) (444975,)\n"
     ]
    }
   ],
   "source": [
    "# Checking the columns in df\n",
    "print(df.columns)\n",
    "\n",
    "# Separating features and target variable\n",
    "x = df.drop(columns=['HadHeartAttack'])  # Drop the target column\n",
    "y = df['HadHeartAttack']                # Access the target column\n",
    "\n",
    "# Printing shapes of x and y\n",
    "print(x.shape, y.shape)\n"
   ]
  },
  {
   "cell_type": "code",
   "execution_count": 19,
   "id": "3c7d63d0-3cae-40ea-aaeb-b6b8a0460dd5",
   "metadata": {},
   "outputs": [
    {
     "data": {
      "text/plain": [
       "((444975, 39), (444975, 39), (444975,))"
      ]
     },
     "execution_count": 19,
     "metadata": {},
     "output_type": "execute_result"
    }
   ],
   "source": []
  },
  {
   "cell_type": "code",
   "execution_count": 20,
   "id": "0f508abf-a4d5-4288-a6e7-863cfcbbfb9b",
   "metadata": {},
   "outputs": [
    {
     "data": {
      "text/plain": [
       "((400477, 39), (44498, 39), (400477,), (44498,))"
      ]
     },
     "execution_count": 20,
     "metadata": {},
     "output_type": "execute_result"
    }
   ],
   "source": [
    "x_train, x_test, y_train, y_test = model_selection.train_test_split(\n",
    "    x_norm, y, test_size=0.1, random_state=42, stratify=y\n",
    ")\n",
    "\n",
    "x_train.shape, x_test.shape, y_train.shape, y_test.shape\n"
   ]
  },
  {
   "cell_type": "code",
   "execution_count": 21,
   "id": "0cb199ff-9581-42d8-a7d4-eb3711fb89b6",
   "metadata": {},
   "outputs": [
    {
     "name": "stdout",
     "output_type": "stream",
     "text": [
      "Cross-Validation Accuracy: Mean = 93.92%, Std = 0.04%\n",
      "Test Accuracy = 93.91%\n"
     ]
    }
   ],
   "source": [
    "from sklearn.tree import DecisionTreeClassifier\n",
    "from sklearn.model_selection import cross_val_score\n",
    "from sklearn import metrics\n",
    "import numpy as np\n",
    "\n",
    "# Create the Decision Tree model\n",
    "dt = DecisionTreeClassifier(max_depth=10)\n",
    "\n",
    "# Perform k-fold cross-validation (e.g., k=5)\n",
    "k = 5  # Number of folds\n",
    "cross_val_scores = cross_val_score(dt, x_train, y_train, cv=k, scoring='accuracy')\n",
    "\n",
    "# Calculate the mean and standard deviation of accuracy across folds\n",
    "mean_accuracy = np.mean(cross_val_scores)\n",
    "std_accuracy = np.std(cross_val_scores)\n",
    "\n",
    "print(f'Cross-Validation Accuracy: Mean = {mean_accuracy*100:.2f}%, Std = {std_accuracy*100:.2f}%')\n",
    "\n",
    "# Train the model on the full training set\n",
    "dt.fit(x_train, y_train)\n",
    "\n",
    "# Test the model on the test set\n",
    "y_pred1 = dt.predict(x_test)\n",
    "acc = metrics.accuracy_score(y_test, y_pred1)\n",
    "print(f'Test Accuracy = {acc*100:.2f}%')"
   ]
  },
  {
   "cell_type": "code",
   "execution_count": 22,
   "id": "365742cb-a4e9-47e3-977f-b2b768737532",
   "metadata": {},
   "outputs": [
    {
     "name": "stdout",
     "output_type": "stream",
     "text": [
      "Cross-Validation Accuracy: Mean = 93.79%, Std = 0.06%\n",
      "Test Accuracy = 93.80%\n"
     ]
    },
    {
     "data": {
      "image/png": "[encoded data removed]",
      "text/plain": [
       "<Figure size 640x480 with 2 Axes>"
      ]
     },
     "metadata": {},
     "output_type": "display_data"
    }
   ],
   "source": [
    "from sklearn.linear_model import LogisticRegression\n",
    "from sklearn.model_selection import cross_val_score\n",
    "from sklearn import metrics\n",
    "from sklearn.metrics import ConfusionMatrixDisplay\n",
    "import numpy as np\n",
    "import matplotlib.pyplot as plt\n",
    "\n",
    "# Create the Logistic Regression model\n",
    "lr = LogisticRegression(max_iter=1000)\n",
    "\n",
    "# Perform k-fold cross-validation (e.g., k=5)\n",
    "k = 5  # Number of folds\n",
    "cross_val_scores = cross_val_score(lr, x_train, y_train, cv=k, scoring='accuracy')\n",
    "\n",
    "# Calculate the mean and standard deviation of accuracy across folds\n",
    "mean_accuracy = np.mean(cross_val_scores)\n",
    "std_accuracy = np.std(cross_val_scores)\n",
    "\n",
    "print(f'Cross-Validation Accuracy: Mean = {mean_accuracy*100:.2f}%, Std = {std_accuracy*100:.2f}%')\n",
    "\n",
    "# Train the model on the full training set\n",
    "lr.fit(x_train, y_train)\n",
    "\n",
    "# Test the model on the test set\n",
    "y_pred1 = lr.predict(x_test)\n",
    "acc = metrics.accuracy_score(y_test, y_pred1)\n",
    "print(f'Test Accuracy = {acc*100:.2f}%')\n",
    "\n",
    "# Visualize the confusion matrix\n",
    "cm = metrics.confusion_matrix(y_test, y_pred1)\n",
    "disp = ConfusionMatrixDisplay(confusion_matrix=cm, display_labels=lr.classes_)\n",
    "disp.plot(cmap=plt.cm.coolwarm)\n",
    "plt.title('Confusion Matrix')\n",
    "plt.show()\n"
   ]
  },
  {
   "cell_type": "code",
   "execution_count": null,
   "id": "2f96e527-a392-4fe5-9ebc-39ae7b92ae8a",
   "metadata": {},
   "outputs": [],
   "source": []
  }
 ],
 "metadata": {
  "kernelspec": {
   "display_name": "Python 3 (ipykernel)",
   "language": "python",
   "name": "python3"
  },
  "language_info": {
   "codemirror_mode": {
    "name": "ipython",
    "version": 3
   },
   "file_extension": ".py",
   "mimetype": "text/x-python",
   "name": "python",
   "nbconvert_exporter": "python",
   "pygments_lexer": "ipython3",
   "version": "3.12.4"
  }
 },
 "nbformat": 4,
 "nbformat_minor": 5
}
