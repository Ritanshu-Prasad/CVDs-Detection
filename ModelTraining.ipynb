{
 "cells": [
  {
   "cell_type": "code",
   "execution_count": 1,
   "id": "59971e86-2e6e-48ed-930d-f744d4af1b09",
   "metadata": {},
   "outputs": [],
   "source": [
    "import pandas as pd \n",
    "from scipy.stats import gaussian_kde\n",
    "import numpy as np\n",
    "import warnings\n",
    "warnings.filterwarnings('ignore')\n",
    "\n",
    "# Load the CSV file\n",
    "df = pd.read_csv('heart_2022_cleaned.csv')"
   ]
  },
  {
   "cell_type": "code",
   "execution_count": 2,
   "id": "5332e972-3aa3-405c-8e1b-25ae2cb7c8b5",
   "metadata": {},
   "outputs": [],
   "source": [
    "from sklearn import metrics, model_selection, preprocessing"
   ]
  },
  {
   "cell_type": "code",
   "execution_count": 3,
   "id": "9abc62d2-47ab-40f4-8f78-1dbb2af9293a",
   "metadata": {},
   "outputs": [
    {
     "name": "stdout",
     "output_type": "stream",
     "text": [
      "Index(['State', 'Sex', 'GeneralHealth', 'PhysicalHealthDays',\n",
      "       'MentalHealthDays', 'LastCheckupTime', 'PhysicalActivities',\n",
      "       'SleepHours', 'RemovedTeeth', 'HadHeartAttack', 'HadAngina',\n",
      "       'HadStroke', 'HadAsthma', 'HadSkinCancer', 'HadCOPD',\n",
      "       'HadDepressiveDisorder', 'HadKidneyDisease', 'HadArthritis',\n",
      "       'HadDiabetes', 'DeafOrHardOfHearing', 'BlindOrVisionDifficulty',\n",
      "       'DifficultyConcentrating', 'DifficultyWalking',\n",
      "       'DifficultyDressingBathing', 'DifficultyErrands', 'SmokerStatus',\n",
      "       'ECigaretteUsage', 'ChestScan', 'RaceEthnicityCategory', 'AgeCategory',\n",
      "       'HeightInMeters', 'WeightInKilograms', 'BMI', 'AlcoholDrinkers',\n",
      "       'HIVTesting', 'FluVaxLast12', 'PneumoVaxEver', 'TetanusLast10Tdap',\n",
      "       'HighRiskLastYear', 'CovidPos'],\n",
      "      dtype='object')\n",
      "(444975, 39) (444975,)\n"
     ]
    }
   ],
   "source": [
    "# Checking the columns in df\n",
    "print(df.columns)\n",
    "\n",
    "# Separating features and target variable\n",
    "x = df.drop(columns=['HadHeartAttack'])  # Drop the target column\n",
    "y = df['HadHeartAttack']                # Access the target column\n",
    "\n",
    "# Printing shapes of x and y\n",
    "print(x.shape, y.shape)"
   ]
  },
  {
   "cell_type": "code",
   "execution_count": 4,
   "id": "d24ee08a-575b-478a-9552-2e21fbc779b0",
   "metadata": {},
   "outputs": [
    {
     "name": "stdout",
     "output_type": "stream",
     "text": [
      "(444975, 39) (444975, 39) (444975,)\n"
     ]
    }
   ],
   "source": [
    "# Normalizing the feature data\n",
    "x_normalize = preprocessing.MinMaxScaler()\n",
    "x_norm = x_normalize.fit_transform(x)\n",
    "\n",
    "# Printing shapes of normalized data and original data\n",
    "print(x_norm.shape, x.shape, y.shape)"
   ]
  },
  {
   "cell_type": "code",
   "execution_count": 5,
   "id": "18637d83-d70a-4da1-a757-52c8b971e855",
   "metadata": {},
   "outputs": [
    {
     "name": "stdout",
     "output_type": "stream",
     "text": [
      "(400477, 39) (44498, 39) (400477,) (44498,)\n"
     ]
    }
   ],
   "source": [
    "x_train, x_test, y_train, y_test = model_selection.train_test_split(\n",
    "    x_norm, y, test_size=0.1, random_state=42, stratify=y\n",
    ")\n",
    "\n",
    "# Printing shapes of train and test sets\n",
    "print(x_train.shape, x_test.shape, y_train.shape, y_test.shape)"
   ]
  },
  {
   "cell_type": "code",
   "execution_count": 6,
   "id": "2a168072-7c95-4ac1-ae61-8a1908f1e732",
   "metadata": {},
   "outputs": [
    {
     "name": "stdout",
     "output_type": "stream",
     "text": [
      "Accuracy per fold: [0.94110905 0.94044609 0.94107534 0.93877184 0.94067082]\n",
      "Mean accuracy: 0.9404\n",
      "Standard deviation of accuracy: 0.0009\n"
     ]
    }
   ],
   "source": [
    "from sklearn.ensemble import RandomForestClassifier\n",
    "from sklearn.model_selection import cross_val_score, KFold\n",
    "from sklearn.preprocessing import MinMaxScaler\n",
    "from sklearn.model_selection import train_test_split\n",
    "\n",
    "# Assuming you've already preprocessed your data as in your previous steps\n",
    "# x = features, y = target variable\n",
    "\n",
    "# Initialize the RandomForestClassifier\n",
    "rf = RandomForestClassifier(n_estimators=100, random_state=42)\n",
    "\n",
    "# Initialize KFold with 5 splits (you can change this value)\n",
    "kf = KFold(n_splits=5, shuffle=True, random_state=42)\n",
    "\n",
    "# Apply K-Fold Cross-Validation with Random Forest Classifier\n",
    "cv_scores = cross_val_score(rf, x_norm, y, cv=kf, scoring='accuracy')\n",
    "\n",
    "# Print the accuracy for each fold\n",
    "print(f'Accuracy per fold: {cv_scores}')\n",
    "print(f'Mean accuracy: {cv_scores.mean():.4f}')\n",
    "print(f'Standard deviation of accuracy: {cv_scores.std():.4f}')"
   ]
  },
  {
   "cell_type": "code",
   "execution_count": 7,
   "id": "5c586fcf-ec44-444a-8a62-dd30db838da7",
   "metadata": {},
   "outputs": [
    {
     "name": "stdout",
     "output_type": "stream",
     "text": [
      "Accuracy per fold: [0.9380527  0.93742345 0.93827743 0.93718748 0.93888421]\n",
      "Mean accuracy: 0.9380\n",
      "Standard deviation of accuracy: 0.0006\n"
     ]
    }
   ],
   "source": [
    "from sklearn.linear_model import LogisticRegression\n",
    "from sklearn.model_selection import cross_val_score, KFold\n",
    "from sklearn.preprocessing import MinMaxScaler\n",
    "from sklearn.model_selection import train_test_split\n",
    "\n",
    "# Assuming you've already preprocessed your data as in previous steps\n",
    "# x = features, y = target variable\n",
    "\n",
    "# Initialize Logistic Regression\n",
    "logreg = LogisticRegression(random_state=42)\n",
    "\n",
    "# Initialize KFold with 5 splits (you can change this value)\n",
    "kf = KFold(n_splits=5, shuffle=True, random_state=42)\n",
    "\n",
    "# Apply K-Fold Cross-Validation with Logistic Regression\n",
    "cv_scores = cross_val_score(logreg, x_norm, y, cv=kf, scoring='accuracy')\n",
    "\n",
    "# Print the accuracy for each fold\n",
    "print(f'Accuracy per fold: {cv_scores}')\n",
    "print(f'Mean accuracy: {cv_scores.mean():.4f}')\n",
    "print(f'Standard deviation of accuracy: {cv_scores.std():.4f}')\n"
   ]
  },
  {
   "cell_type": "code",
   "execution_count": 9,
   "id": "b7abcff4-d989-4b44-b0a6-e5a32d10ff69",
   "metadata": {},
   "outputs": [
    {
     "name": "stdout",
     "output_type": "stream",
     "text": [
      "Accuracy for each fold (n_neighbors=13): [0.93850216 0.93773808 0.93907523 0.93635598 0.93813136]\n",
      "Mean accuracy (n_neighbors=13): 0.9380\n",
      "Standard deviation (n_neighbors=13): 0.0009\n"
     ]
    }
   ],
   "source": [
    "from sklearn.neighbors import KNeighborsClassifier\n",
    "from sklearn.model_selection import cross_val_score, KFold\n",
    "import numpy as np\n",
    "\n",
    "# Assuming you've already preprocessed your data as in previous steps\n",
    "# x = features, y = target variable\n",
    "# x_norm = normalized features (e.g., using MinMaxScaler)\n",
    "\n",
    "# Initialize KFold with 5 splits\n",
    "kf = KFold(n_splits=5, shuffle=True, random_state=42)\n",
    "\n",
    "# Set n_neighbors to 13\n",
    "n_neighbors = 13\n",
    "\n",
    "# Initialize KNN classifier with n_neighbors=13\n",
    "knn = KNeighborsClassifier(n_neighbors=n_neighbors)\n",
    "\n",
    "# Perform cross-validation\n",
    "cv_scores = cross_val_score(knn, x_norm, y, cv=kf, scoring='accuracy')\n",
    "\n",
    "# Calculate mean accuracy and standard deviation\n",
    "mean_accuracy = cv_scores.mean()\n",
    "std_deviation = cv_scores.std()\n",
    "\n",
    "# Print the accuracy for each fold\n",
    "print(f\"Accuracy for each fold (n_neighbors={n_neighbors}): {cv_scores}\")\n",
    "print(f\"Mean accuracy (n_neighbors={n_neighbors}): {mean_accuracy:.4f}\")\n",
    "print(f\"Standard deviation (n_neighbors={n_neighbors}): {std_deviation:.4f}\")\n"
   ]
  },
  {
   "cell_type": "code",
   "execution_count": 14,
   "id": "dcd6c961-3197-4016-b8a7-ffa1c325f25c",
   "metadata": {},
   "outputs": [
    {
     "ename": "ValueError",
     "evalue": "Found input variables with inconsistent numbers of samples: [444975, 1000]",
     "output_type": "error",
     "traceback": [
      "\u001b[1;31m---------------------------------------------------------------------------\u001b[0m",
      "\u001b[1;31mValueError\u001b[0m                                Traceback (most recent call last)",
      "Cell \u001b[1;32mIn[14], line 24\u001b[0m\n\u001b[0;32m     21\u001b[0m svc \u001b[38;5;241m=\u001b[39m SVC(C\u001b[38;5;241m=\u001b[39mC, kernel\u001b[38;5;241m=\u001b[39m\u001b[38;5;124m'\u001b[39m\u001b[38;5;124mlinear\u001b[39m\u001b[38;5;124m'\u001b[39m, random_state\u001b[38;5;241m=\u001b[39m\u001b[38;5;241m42\u001b[39m)  \u001b[38;5;66;03m# You can try other kernels as well\u001b[39;00m\n\u001b[0;32m     23\u001b[0m \u001b[38;5;66;03m# Calculate cross-validation scores for the current C value\u001b[39;00m\n\u001b[1;32m---> 24\u001b[0m cv_scores \u001b[38;5;241m=\u001b[39m cross_val_score(svc, x_norm, y, cv\u001b[38;5;241m=\u001b[39mkf, scoring\u001b[38;5;241m=\u001b[39m\u001b[38;5;124m'\u001b[39m\u001b[38;5;124maccuracy\u001b[39m\u001b[38;5;124m'\u001b[39m)\n\u001b[0;32m     26\u001b[0m \u001b[38;5;66;03m# Calculate and store the mean and standard deviation of the cross-validation scores\u001b[39;00m\n\u001b[0;32m     27\u001b[0m mean_scores\u001b[38;5;241m.\u001b[39mappend(cv_scores\u001b[38;5;241m.\u001b[39mmean())\n",
      "File \u001b[1;32mC:\\ProgramData\\anaconda3\\Lib\\site-packages\\sklearn\\utils\\_param_validation.py:213\u001b[0m, in \u001b[0;36mvalidate_params.<locals>.decorator.<locals>.wrapper\u001b[1;34m(*args, **kwargs)\u001b[0m\n\u001b[0;32m    207\u001b[0m \u001b[38;5;28;01mtry\u001b[39;00m:\n\u001b[0;32m    208\u001b[0m     \u001b[38;5;28;01mwith\u001b[39;00m config_context(\n\u001b[0;32m    209\u001b[0m         skip_parameter_validation\u001b[38;5;241m=\u001b[39m(\n\u001b[0;32m    210\u001b[0m             prefer_skip_nested_validation \u001b[38;5;129;01mor\u001b[39;00m global_skip_validation\n\u001b[0;32m    211\u001b[0m         )\n\u001b[0;32m    212\u001b[0m     ):\n\u001b[1;32m--> 213\u001b[0m         \u001b[38;5;28;01mreturn\u001b[39;00m func(\u001b[38;5;241m*\u001b[39margs, \u001b[38;5;241m*\u001b[39m\u001b[38;5;241m*\u001b[39mkwargs)\n\u001b[0;32m    214\u001b[0m \u001b[38;5;28;01mexcept\u001b[39;00m InvalidParameterError \u001b[38;5;28;01mas\u001b[39;00m e:\n\u001b[0;32m    215\u001b[0m     \u001b[38;5;66;03m# When the function is just a wrapper around an estimator, we allow\u001b[39;00m\n\u001b[0;32m    216\u001b[0m     \u001b[38;5;66;03m# the function to delegate validation to the estimator, but we replace\u001b[39;00m\n\u001b[0;32m    217\u001b[0m     \u001b[38;5;66;03m# the name of the estimator by the name of the function in the error\u001b[39;00m\n\u001b[0;32m    218\u001b[0m     \u001b[38;5;66;03m# message to avoid confusion.\u001b[39;00m\n\u001b[0;32m    219\u001b[0m     msg \u001b[38;5;241m=\u001b[39m re\u001b[38;5;241m.\u001b[39msub(\n\u001b[0;32m    220\u001b[0m         \u001b[38;5;124mr\u001b[39m\u001b[38;5;124m\"\u001b[39m\u001b[38;5;124mparameter of \u001b[39m\u001b[38;5;124m\\\u001b[39m\u001b[38;5;124mw+ must be\u001b[39m\u001b[38;5;124m\"\u001b[39m,\n\u001b[0;32m    221\u001b[0m         \u001b[38;5;124mf\u001b[39m\u001b[38;5;124m\"\u001b[39m\u001b[38;5;124mparameter of \u001b[39m\u001b[38;5;132;01m{\u001b[39;00mfunc\u001b[38;5;241m.\u001b[39m\u001b[38;5;18m__qualname__\u001b[39m\u001b[38;5;132;01m}\u001b[39;00m\u001b[38;5;124m must be\u001b[39m\u001b[38;5;124m\"\u001b[39m,\n\u001b[0;32m    222\u001b[0m         \u001b[38;5;28mstr\u001b[39m(e),\n\u001b[0;32m    223\u001b[0m     )\n",
      "File \u001b[1;32mC:\\ProgramData\\anaconda3\\Lib\\site-packages\\sklearn\\model_selection\\_validation.py:719\u001b[0m, in \u001b[0;36mcross_val_score\u001b[1;34m(estimator, X, y, groups, scoring, cv, n_jobs, verbose, fit_params, params, pre_dispatch, error_score)\u001b[0m\n\u001b[0;32m    716\u001b[0m \u001b[38;5;66;03m# To ensure multimetric format is not supported\u001b[39;00m\n\u001b[0;32m    717\u001b[0m scorer \u001b[38;5;241m=\u001b[39m check_scoring(estimator, scoring\u001b[38;5;241m=\u001b[39mscoring)\n\u001b[1;32m--> 719\u001b[0m cv_results \u001b[38;5;241m=\u001b[39m cross_validate(\n\u001b[0;32m    720\u001b[0m     estimator\u001b[38;5;241m=\u001b[39mestimator,\n\u001b[0;32m    721\u001b[0m     X\u001b[38;5;241m=\u001b[39mX,\n\u001b[0;32m    722\u001b[0m     y\u001b[38;5;241m=\u001b[39my,\n\u001b[0;32m    723\u001b[0m     groups\u001b[38;5;241m=\u001b[39mgroups,\n\u001b[0;32m    724\u001b[0m     scoring\u001b[38;5;241m=\u001b[39m{\u001b[38;5;124m\"\u001b[39m\u001b[38;5;124mscore\u001b[39m\u001b[38;5;124m\"\u001b[39m: scorer},\n\u001b[0;32m    725\u001b[0m     cv\u001b[38;5;241m=\u001b[39mcv,\n\u001b[0;32m    726\u001b[0m     n_jobs\u001b[38;5;241m=\u001b[39mn_jobs,\n\u001b[0;32m    727\u001b[0m     verbose\u001b[38;5;241m=\u001b[39mverbose,\n\u001b[0;32m    728\u001b[0m     fit_params\u001b[38;5;241m=\u001b[39mfit_params,\n\u001b[0;32m    729\u001b[0m     params\u001b[38;5;241m=\u001b[39mparams,\n\u001b[0;32m    730\u001b[0m     pre_dispatch\u001b[38;5;241m=\u001b[39mpre_dispatch,\n\u001b[0;32m    731\u001b[0m     error_score\u001b[38;5;241m=\u001b[39merror_score,\n\u001b[0;32m    732\u001b[0m )\n\u001b[0;32m    733\u001b[0m \u001b[38;5;28;01mreturn\u001b[39;00m cv_results[\u001b[38;5;124m\"\u001b[39m\u001b[38;5;124mtest_score\u001b[39m\u001b[38;5;124m\"\u001b[39m]\n",
      "File \u001b[1;32mC:\\ProgramData\\anaconda3\\Lib\\site-packages\\sklearn\\utils\\_param_validation.py:213\u001b[0m, in \u001b[0;36mvalidate_params.<locals>.decorator.<locals>.wrapper\u001b[1;34m(*args, **kwargs)\u001b[0m\n\u001b[0;32m    207\u001b[0m \u001b[38;5;28;01mtry\u001b[39;00m:\n\u001b[0;32m    208\u001b[0m     \u001b[38;5;28;01mwith\u001b[39;00m config_context(\n\u001b[0;32m    209\u001b[0m         skip_parameter_validation\u001b[38;5;241m=\u001b[39m(\n\u001b[0;32m    210\u001b[0m             prefer_skip_nested_validation \u001b[38;5;129;01mor\u001b[39;00m global_skip_validation\n\u001b[0;32m    211\u001b[0m         )\n\u001b[0;32m    212\u001b[0m     ):\n\u001b[1;32m--> 213\u001b[0m         \u001b[38;5;28;01mreturn\u001b[39;00m func(\u001b[38;5;241m*\u001b[39margs, \u001b[38;5;241m*\u001b[39m\u001b[38;5;241m*\u001b[39mkwargs)\n\u001b[0;32m    214\u001b[0m \u001b[38;5;28;01mexcept\u001b[39;00m InvalidParameterError \u001b[38;5;28;01mas\u001b[39;00m e:\n\u001b[0;32m    215\u001b[0m     \u001b[38;5;66;03m# When the function is just a wrapper around an estimator, we allow\u001b[39;00m\n\u001b[0;32m    216\u001b[0m     \u001b[38;5;66;03m# the function to delegate validation to the estimator, but we replace\u001b[39;00m\n\u001b[0;32m    217\u001b[0m     \u001b[38;5;66;03m# the name of the estimator by the name of the function in the error\u001b[39;00m\n\u001b[0;32m    218\u001b[0m     \u001b[38;5;66;03m# message to avoid confusion.\u001b[39;00m\n\u001b[0;32m    219\u001b[0m     msg \u001b[38;5;241m=\u001b[39m re\u001b[38;5;241m.\u001b[39msub(\n\u001b[0;32m    220\u001b[0m         \u001b[38;5;124mr\u001b[39m\u001b[38;5;124m\"\u001b[39m\u001b[38;5;124mparameter of \u001b[39m\u001b[38;5;124m\\\u001b[39m\u001b[38;5;124mw+ must be\u001b[39m\u001b[38;5;124m\"\u001b[39m,\n\u001b[0;32m    221\u001b[0m         \u001b[38;5;124mf\u001b[39m\u001b[38;5;124m\"\u001b[39m\u001b[38;5;124mparameter of \u001b[39m\u001b[38;5;132;01m{\u001b[39;00mfunc\u001b[38;5;241m.\u001b[39m\u001b[38;5;18m__qualname__\u001b[39m\u001b[38;5;132;01m}\u001b[39;00m\u001b[38;5;124m must be\u001b[39m\u001b[38;5;124m\"\u001b[39m,\n\u001b[0;32m    222\u001b[0m         \u001b[38;5;28mstr\u001b[39m(e),\n\u001b[0;32m    223\u001b[0m     )\n",
      "File \u001b[1;32mC:\\ProgramData\\anaconda3\\Lib\\site-packages\\sklearn\\model_selection\\_validation.py:351\u001b[0m, in \u001b[0;36mcross_validate\u001b[1;34m(estimator, X, y, groups, scoring, cv, n_jobs, verbose, fit_params, params, pre_dispatch, return_train_score, return_estimator, return_indices, error_score)\u001b[0m\n\u001b[0;32m    140\u001b[0m \u001b[38;5;250m\u001b[39m\u001b[38;5;124;03m\"\"\"Evaluate metric(s) by cross-validation and also record fit/score times.\u001b[39;00m\n\u001b[0;32m    141\u001b[0m \n\u001b[0;32m    142\u001b[0m \u001b[38;5;124;03mRead more in the :ref:`User Guide <multimetric_cross_validation>`.\u001b[39;00m\n\u001b[1;32m   (...)\u001b[0m\n\u001b[0;32m    347\u001b[0m \u001b[38;5;124;03m[0.28009951 0.3908844  0.22784907]\u001b[39;00m\n\u001b[0;32m    348\u001b[0m \u001b[38;5;124;03m\"\"\"\u001b[39;00m\n\u001b[0;32m    349\u001b[0m params \u001b[38;5;241m=\u001b[39m _check_params_groups_deprecation(fit_params, params, groups)\n\u001b[1;32m--> 351\u001b[0m X, y \u001b[38;5;241m=\u001b[39m indexable(X, y)\n\u001b[0;32m    353\u001b[0m cv \u001b[38;5;241m=\u001b[39m check_cv(cv, y, classifier\u001b[38;5;241m=\u001b[39mis_classifier(estimator))\n\u001b[0;32m    355\u001b[0m \u001b[38;5;28;01mif\u001b[39;00m \u001b[38;5;28mcallable\u001b[39m(scoring):\n",
      "File \u001b[1;32mC:\\ProgramData\\anaconda3\\Lib\\site-packages\\sklearn\\utils\\validation.py:514\u001b[0m, in \u001b[0;36mindexable\u001b[1;34m(*iterables)\u001b[0m\n\u001b[0;32m    484\u001b[0m \u001b[38;5;250m\u001b[39m\u001b[38;5;124;03m\"\"\"Make arrays indexable for cross-validation.\u001b[39;00m\n\u001b[0;32m    485\u001b[0m \n\u001b[0;32m    486\u001b[0m \u001b[38;5;124;03mChecks consistent length, passes through None, and ensures that everything\u001b[39;00m\n\u001b[1;32m   (...)\u001b[0m\n\u001b[0;32m    510\u001b[0m \u001b[38;5;124;03m[[1, 2, 3], array([2, 3, 4]), None, <3x1 sparse matrix ...>]\u001b[39;00m\n\u001b[0;32m    511\u001b[0m \u001b[38;5;124;03m\"\"\"\u001b[39;00m\n\u001b[0;32m    513\u001b[0m result \u001b[38;5;241m=\u001b[39m [_make_indexable(X) \u001b[38;5;28;01mfor\u001b[39;00m X \u001b[38;5;129;01min\u001b[39;00m iterables]\n\u001b[1;32m--> 514\u001b[0m check_consistent_length(\u001b[38;5;241m*\u001b[39mresult)\n\u001b[0;32m    515\u001b[0m \u001b[38;5;28;01mreturn\u001b[39;00m result\n",
      "File \u001b[1;32mC:\\ProgramData\\anaconda3\\Lib\\site-packages\\sklearn\\utils\\validation.py:457\u001b[0m, in \u001b[0;36mcheck_consistent_length\u001b[1;34m(*arrays)\u001b[0m\n\u001b[0;32m    455\u001b[0m uniques \u001b[38;5;241m=\u001b[39m np\u001b[38;5;241m.\u001b[39munique(lengths)\n\u001b[0;32m    456\u001b[0m \u001b[38;5;28;01mif\u001b[39;00m \u001b[38;5;28mlen\u001b[39m(uniques) \u001b[38;5;241m>\u001b[39m \u001b[38;5;241m1\u001b[39m:\n\u001b[1;32m--> 457\u001b[0m     \u001b[38;5;28;01mraise\u001b[39;00m \u001b[38;5;167;01mValueError\u001b[39;00m(\n\u001b[0;32m    458\u001b[0m         \u001b[38;5;124m\"\u001b[39m\u001b[38;5;124mFound input variables with inconsistent numbers of samples: \u001b[39m\u001b[38;5;132;01m%r\u001b[39;00m\u001b[38;5;124m\"\u001b[39m\n\u001b[0;32m    459\u001b[0m         \u001b[38;5;241m%\u001b[39m [\u001b[38;5;28mint\u001b[39m(l) \u001b[38;5;28;01mfor\u001b[39;00m l \u001b[38;5;129;01min\u001b[39;00m lengths]\n\u001b[0;32m    460\u001b[0m     )\n",
      "\u001b[1;31mValueError\u001b[0m: Found input variables with inconsistent numbers of samples: [444975, 1000]"
     ]
    }
   ],
   "source": [
    "from sklearn.svm import SVC\n",
    "from sklearn.model_selection import cross_val_score, KFold\n",
    "import numpy as np\n",
    "\n",
    "# Assuming you've already preprocessed your data as in previous steps\n",
    "# x = features, y = target variable\n",
    "\n",
    "# Initialize KFold with 5 splits\n",
    "kf = KFold(n_splits=5, shuffle=True, random_state=42)\n",
    "\n",
    "# List to store mean cross-validation scores for each value of C (regularization parameter)\n",
    "C_range = [0.1, 1, 10, 100, 1000]  # Regularization strength, we will test various values of C\n",
    "\n",
    "# List to store mean scores and standard deviations\n",
    "mean_scores = []\n",
    "std_scores = []\n",
    "\n",
    "# Iterate over different values of C (regularization parameter)\n",
    "for C in C_range:\n",
    "    # Initialize SVC classifier with current C value\n",
    "    svc = SVC(C=C, kernel='linear', random_state=42)  # You can try other kernels as well\n",
    "    \n",
    "    # Calculate cross-validation scores for the current C value\n",
    "    cv_scores = cross_val_score(svc, x_norm, y, cv=kf, scoring='accuracy')\n",
    "    \n",
    "    # Calculate and store the mean and standard deviation of the cross-validation scores\n",
    "    mean_scores.append(cv_scores.mean())\n",
    "    std_scores.append(cv_scores.std())\n",
    "    \n",
    "    # Print the accuracy for each fold for the current C value\n",
    "    print(f'Accuracy for each fold (C={C}): {cv_scores}')\n",
    "    print(f'Mean accuracy (C={C}): {cv_scores.mean():.4f}')\n",
    "    print(f'Standard deviation (C={C}): {cv_scores.std():.4f}')\n",
    "    print('-' * 50)\n",
    "\n",
    "# Find the optimal C based on the highest mean score\n",
    "optimal_C = C_range[np.argmax(mean_scores)]\n",
    "optimal_score = max(mean_scores)\n",
    "optimal_std = std_scores[np.argmax(mean_scores)]\n",
    "\n",
    "# Print the optimal C and its corresponding mean accuracy and standard deviation\n",
    "print(f'Optimal regularization parameter C: {optimal_C}')\n",
    "print(f'Best cross-validation accuracy: {optimal_score:.4f}')\n",
    "print(f'Standard deviation of accuracy: {optimal_std:.4f}')\n"
   ]
  },
  {
   "cell_type": "code",
   "execution_count": 11,
   "id": "0e2ed38e-6935-4d66-9a8b-009538b1da0f",
   "metadata": {},
   "outputs": [
    {
     "name": "stdout",
     "output_type": "stream",
     "text": [
      "Accuracy per fold: [0.94123265 0.94103039 0.94130007 0.93971571 0.94113152]\n",
      "Mean accuracy: 0.9409\n",
      "Standard deviation of accuracy: 0.0006\n"
     ]
    }
   ],
   "source": [
    "import xgboost as xgb\n",
    "from sklearn.model_selection import cross_val_score, KFold\n",
    "from sklearn.preprocessing import MinMaxScaler\n",
    "from sklearn.model_selection import train_test_split\n",
    "\n",
    "# Assuming you've already preprocessed your data as in previous steps\n",
    "# x = features, y = target variable\n",
    "\n",
    "# Initialize XGBoost classifier\n",
    "xg_clf = xgb.XGBClassifier(random_state=42)\n",
    "\n",
    "# Initialize KFold with 5 splits (you can change this value)\n",
    "kf = KFold(n_splits=5, shuffle=True, random_state=42)\n",
    "\n",
    "# Apply K-Fold Cross-Validation with XGBoost Classifier\n",
    "cv_scores = cross_val_score(xg_clf, x_norm, y, cv=kf, scoring='accuracy')\n",
    "\n",
    "# Print the accuracy for each fold\n",
    "print(f'Accuracy per fold: {cv_scores}')\n",
    "print(f'Mean accuracy: {cv_scores.mean():.4f}')\n",
    "print(f'Standard deviation of accuracy: {cv_scores.std():.4f}')\n"
   ]
  },
  {
   "cell_type": "code",
   "execution_count": 13,
   "id": "ce91e230-4004-4f68-9f53-6ca5a69799f3",
   "metadata": {},
   "outputs": [
    {
     "name": "stdout",
     "output_type": "stream",
     "text": [
      "Performing cross-validation for the hybrid model:\n"
     ]
    },
    {
     "name": "stderr",
     "output_type": "stream",
     "text": [
      "Folds: 100%|█████████████████████████████████████████████████████████████████████████████| 5/5 [00:01<00:00,  3.23it/s]"
     ]
    },
    {
     "name": "stdout",
     "output_type": "stream",
     "text": [
      "\n",
      "Hybrid Model Cross-Validation Results:\n",
      "Fold 1: Accuracy = 0.8650\n",
      "Fold 2: Accuracy = 0.9050\n",
      "Fold 3: Accuracy = 0.9200\n",
      "Fold 4: Accuracy = 0.9000\n",
      "Fold 5: Accuracy = 0.9050\n",
      "\n",
      "Mean Accuracy: 0.8990\n",
      "Standard Deviation: 0.0183\n"
     ]
    },
    {
     "name": "stderr",
     "output_type": "stream",
     "text": [
      "\n"
     ]
    }
   ],
   "source": [
    "from sklearn.ensemble import VotingClassifier\n",
    "from sklearn.model_selection import cross_val_score, KFold\n",
    "from sklearn.svm import SVC\n",
    "from sklearn.ensemble import RandomForestClassifier\n",
    "from sklearn.neighbors import KNeighborsClassifier\n",
    "from sklearn.linear_model import LogisticRegression\n",
    "from xgboost import XGBClassifier\n",
    "from tqdm import tqdm\n",
    "import numpy as np\n",
    "\n",
    "# Sample data (replace with your actual preprocessed data)\n",
    "from sklearn.datasets import make_classification\n",
    "x, y = make_classification(n_samples=1000, n_features=10, random_state=42)\n",
    "\n",
    "# Initialize individual models\n",
    "svc = SVC(kernel=\"linear\", probability=True, random_state=42)\n",
    "xgboost = XGBClassifier(use_label_encoder=False, eval_metric='logloss', random_state=42)\n",
    "log_reg = LogisticRegression(max_iter=1000, random_state=42)\n",
    "knn = KNeighborsClassifier(n_neighbors=13)\n",
    "random_forest = RandomForestClassifier(n_estimators=100, random_state=42)\n",
    "\n",
    "# Create a hybrid model using VotingClassifier\n",
    "hybrid_model = VotingClassifier(\n",
    "    estimators=[\n",
    "        ('svc', svc),\n",
    "        ('xgboost', xgboost),\n",
    "        ('log_reg', log_reg),\n",
    "        ('knn', knn),\n",
    "        ('random_forest', random_forest)\n",
    "    ],\n",
    "    voting='soft'  # 'soft' for probabilities, 'hard' for majority voting\n",
    ")\n",
    "\n",
    "# Initialize K-Fold for cross-validation\n",
    "kf = KFold(n_splits=5, shuffle=True, random_state=42)\n",
    "\n",
    "# Cross-validation with progress tracking\n",
    "cv_scores = []\n",
    "\n",
    "print(\"Performing cross-validation for the hybrid model:\")\n",
    "for train_idx, test_idx in tqdm(kf.split(x), total=kf.get_n_splits(), desc=\"Folds\"):\n",
    "    x_train, x_test = x[train_idx], x[test_idx]\n",
    "    y_train, y_test = y[train_idx], y[test_idx]\n",
    "    \n",
    "    # Fit the hybrid model on the training data\n",
    "    hybrid_model.fit(x_train, y_train)\n",
    "    \n",
    "    # Evaluate the hybrid model on the test data\n",
    "    score = hybrid_model.score(x_test, y_test)  # Accuracy for the fold\n",
    "    cv_scores.append(score)\n",
    "\n",
    "# Compute mean accuracy and standard deviation\n",
    "mean_accuracy = np.mean(cv_scores)\n",
    "std_deviation = np.std(cv_scores)\n",
    "\n",
    "# Display the results\n",
    "print(\"\\nHybrid Model Cross-Validation Results:\")\n",
    "for i, score in enumerate(cv_scores, 1):\n",
    "    print(f\"Fold {i}: Accuracy = {score:.4f}\")\n",
    "print(f\"\\nMean Accuracy: {mean_accuracy:.4f}\")\n",
    "print(f\"Standard Deviation: {std_deviation:.4f}\")\n"
   ]
  },
  {
   "cell_type": "code",
   "execution_count": null,
   "id": "4cfd04de-8b23-4a23-8a05-d946f53bd8dd",
   "metadata": {},
   "outputs": [],
   "source": []
  }
 ],
 "metadata": {
  "kernelspec": {
   "display_name": "Python 3 (ipykernel)",
   "language": "python",
   "name": "python3"
  },
  "language_info": {
   "codemirror_mode": {
    "name": "ipython",
    "version": 3
   },
   "file_extension": ".py",
   "mimetype": "text/x-python",
   "name": "python",
   "nbconvert_exporter": "python",
   "pygments_lexer": "ipython3",
   "version": "3.12.4"
  }
 },
 "nbformat": 4,
 "nbformat_minor": 5
}
